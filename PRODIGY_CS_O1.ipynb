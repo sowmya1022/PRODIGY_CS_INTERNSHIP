{
  "nbformat": 4,
  "nbformat_minor": 0,
  "metadata": {
    "colab": {
      "provenance": []
    },
    "kernelspec": {
      "name": "python3",
      "display_name": "Python 3"
    },
    "language_info": {
      "name": "python"
    }
  },
  "cells": [
    {
      "cell_type": "code",
      "execution_count": 1,
      "metadata": {
        "colab": {
          "base_uri": "https://localhost:8080/"
        },
        "id": "Jb77a_ks7O73",
        "outputId": "e0bf2f87-d4fc-4f23-cba4-157e08b1d9e2"
      },
      "outputs": [
        {
          "output_type": "stream",
          "name": "stdout",
          "text": [
            "Enter the message: sowmya\n",
            "Enter the shift value: 4\n",
            "Encrypted Message: wsaqce\n",
            "Decrypted Message: sowmya\n"
          ]
        }
      ],
      "source": [
        "def caesar_cipher_encrypt(text, shift):\n",
        "    result = \"\"\n",
        "\n",
        "    for i in range(len(text)):\n",
        "        char = text[i]\n",
        "\n",
        "        # Encrypt uppercase characters\n",
        "        if char.isupper():\n",
        "            result += chr((ord(char) + shift - 65) % 26 + 65)\n",
        "        # Encrypt lowercase characters\n",
        "        elif char.islower():\n",
        "            result += chr((ord(char) + shift - 97) % 26 + 97)\n",
        "        else:\n",
        "            result += char  # Non-alphabetic characters are added as is\n",
        "\n",
        "    return result\n",
        "\n",
        "def caesar_cipher_decrypt(text, shift):\n",
        "    return caesar_cipher_encrypt(text, -shift)\n",
        "\n",
        "# Get user input\n",
        "message = input(\"Enter the message: \")\n",
        "shift = int(input(\"Enter the shift value: \"))\n",
        "\n",
        "# Encrypt and decrypt the message\n",
        "encrypted_message = caesar_cipher_encrypt(message, shift)\n",
        "decrypted_message = caesar_cipher_decrypt(encrypted_message, shift)\n",
        "\n",
        "print(f\"Encrypted Message: {encrypted_message}\")\n",
        "print(f\"Decrypted Message: {decrypted_message}\")\n"
      ]
    },
    {
      "cell_type": "code",
      "source": [],
      "metadata": {
        "id": "2SPBAzNm7TVF"
      },
      "execution_count": null,
      "outputs": []
    }
  ]
}