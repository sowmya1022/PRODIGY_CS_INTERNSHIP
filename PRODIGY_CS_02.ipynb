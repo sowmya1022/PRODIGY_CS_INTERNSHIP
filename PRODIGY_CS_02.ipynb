{
  "nbformat": 4,
  "nbformat_minor": 0,
  "metadata": {
    "colab": {
      "provenance": []
    },
    "kernelspec": {
      "name": "python3",
      "display_name": "Python 3"
    },
    "language_info": {
      "name": "python"
    }
  },
  "cells": [
    {
      "cell_type": "code",
      "source": [
        "from PIL import Image\n",
        "import numpy as np\n",
        "\n",
        "def encrypt_image(input_image_path, output_image_path, key):\n",
        "    # Open the image\n",
        "    img = Image.open(input_image_path)\n",
        "    # Convert image to numpy array\n",
        "    img_array = np.array(img)\n",
        "\n",
        "    # Encrypt the image by adding the key value to each pixel\n",
        "    encrypted_array = (img_array + key) % 256\n",
        "\n",
        "    # Convert the encrypted array back to an image\n",
        "    encrypted_img = Image.fromarray(encrypted_array.astype('uint8'))\n",
        "    encrypted_img.save(output_image_path)\n",
        "\n",
        "def decrypt_image(input_image_path, output_image_path, key):\n",
        "    # Open the encrypted image\n",
        "    img = Image.open(input_image_path)\n",
        "    # Convert image to numpy array\n",
        "    img_array = np.array(img)\n",
        "\n",
        "    # Decrypt the image by subtracting the key value from each pixel\n",
        "    decrypted_array = (img_array - key) % 256\n",
        "\n",
        "    # Convert the decrypted array back to an image\n",
        "    decrypted_img = Image.fromarray(decrypted_array.astype('uint8'))\n",
        "    decrypted_img.save(output_image_path)\n",
        "\n",
        "# User input for the image paths and encryption key\n",
        "input_image_path = input(\"Enter the path to the image to encrypt: \")\n",
        "output_encrypted_path = input(\"Enter the path to save the encrypted image: \")\n",
        "output_decrypted_path = input(\"Enter the path to save the decrypted image: \")\n",
        "key = int(input(\"Enter the encryption key (an integer): \"))\n",
        "\n",
        "# Encrypt and save the image\n",
        "encrypt_image(input_image_path, output_encrypted_path, key)\n",
        "print(f\"Image encrypted and saved as {output_encrypted_path}\")\n",
        "\n",
        "# Decrypt and save the image\n",
        "decrypt_image(output_encrypted_path, output_decrypted_path, key)\n",
        "print(f\"Image decrypted and saved as {output_decrypted_path}\")\n"
      ],
      "metadata": {
        "id": "2SPBAzNm7TVF"
      },
      "execution_count": null,
      "outputs": []
    },
    {
      "cell_type": "code",
      "source": [],
      "metadata": {
        "id": "jJIR8vXiBN1o"
      },
      "execution_count": null,
      "outputs": []
    }
  ]
}