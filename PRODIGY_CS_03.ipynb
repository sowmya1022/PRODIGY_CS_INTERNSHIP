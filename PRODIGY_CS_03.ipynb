{
  "nbformat": 4,
  "nbformat_minor": 0,
  "metadata": {
    "colab": {
      "provenance": []
    },
    "kernelspec": {
      "name": "python3",
      "display_name": "Python 3"
    },
    "language_info": {
      "name": "python"
    }
  },
  "cells": [
    {
      "cell_type": "code",
      "source": [
        "import re\n",
        "\n",
        "def password_strength(password):\n",
        "    # Criteria for password strength\n",
        "    length_criteria = len(password) >= 8\n",
        "    uppercase_criteria = re.search(r'[A-Z]', password) is not None\n",
        "    lowercase_criteria = re.search(r'[a-z]', password) is not None\n",
        "    digit_criteria = re.search(r'\\d', password) is not None\n",
        "    special_char_criteria = re.search(r'[\\W_]', password) is not None\n",
        "\n",
        "    # Check how many criteria are met\n",
        "    criteria_met = sum([length_criteria, uppercase_criteria, lowercase_criteria, digit_criteria, special_char_criteria])\n",
        "\n",
        "    # Determine strength based on criteria met\n",
        "    if criteria_met == 5:\n",
        "        strength = \"Very Strong\"\n",
        "    elif criteria_met == 4:\n",
        "        strength = \"Strong\"\n",
        "    elif criteria_met == 3:\n",
        "        strength = \"Medium\"\n",
        "    else:\n",
        "        strength = \"Weak\"\n",
        "\n",
        "    # Provide feedback\n",
        "    feedback = []\n",
        "    if not length_criteria:\n",
        "        feedback.append(\"Password should be at least 8 characters long.\")\n",
        "    if not uppercase_criteria:\n",
        "        feedback.append(\"Password should include at least one uppercase letter.\")\n",
        "    if not lowercase_criteria:\n",
        "        feedback.append(\"Password should include at least one lowercase letter.\")\n",
        "    if not digit_criteria:\n",
        "        feedback.append(\"Password should include at least one digit.\")\n",
        "    if not special_char_criteria:\n",
        "        feedback.append(\"Password should include at least one special character.\")\n",
        "\n",
        "    return strength, feedback\n",
        "\n",
        "# Get user input\n",
        "password = input(\"Enter a password to check its strength: \")\n",
        "\n",
        "# Check password strength\n",
        "strength, feedback = password_strength(password)\n",
        "\n",
        "# Display the results\n",
        "print(f\"Password Strength: {strength}\")\n",
        "if feedback:\n",
        "    print(\"Feedback:\")\n",
        "    for suggestion in feedback:\n",
        "        print(f\"- {suggestion}\")\n"
      ],
      "metadata": {
        "id": "2SPBAzNm7TVF",
        "colab": {
          "base_uri": "https://localhost:8080/"
        },
        "outputId": "2e26f957-188a-402c-b125-0ff4fa3736e9"
      },
      "execution_count": null,
      "outputs": [
        {
          "name": "stdout",
          "output_type": "stream",
          "text": [
            "Enter the path to the image to encrypt: GHJJ\n"
          ]
        }
      ]
    },
    {
      "cell_type": "code",
      "source": [],
      "metadata": {
        "id": "jJIR8vXiBN1o"
      },
      "execution_count": null,
      "outputs": []
    }
  ]
}